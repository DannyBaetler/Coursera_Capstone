# -*- coding: utf-8 -*-
"""
This Notebook will be mainly used for the Coursera Capstone Project
"""


import pandas as pd
import numpy as np



print("Hello Capstone Project Course!")